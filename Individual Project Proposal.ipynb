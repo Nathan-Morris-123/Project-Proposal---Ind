{
 "cells": [
  {
   "cell_type": "markdown",
   "id": "90abd873",
   "metadata": {},
   "source": [
    "RESEARCH QUESTION 1:  Is there a correlation between the number of people someone interacted with during COVID and their happiness?\n",
    "\n",
    "Variables:  COVID_prevention_reduce_people and WELLNESS_subjective_happiness_scale_score.  The first variable measures the extent to which a person reduced the number of people they interacted with during the Covid pandemic, and can be visualized with a bar graph showing the number of respondants in each category (Very closely, somewhat closely, or not at all), which will give an idea of the distribution of this data.  The second variable is a measure of a person's happiness, as reported by themselves.  This can be shown with a histogram, since it is an example of quantitative continuous data, which will allow us to see the distribution of people's happiness levels.\n",
    "\n",
    "Analysis:  I will separate the survey respondants into groups based on how much they reduced their interactions during COVID (so all the people who had lots of interactions will be in the same group, and vice versa).  Then, I will bootstrap the data for the happiness scores to create a distribution of its mean values.  I assume that this distribution will be normal.  Within each group, I'll calculate the mean happiness score, again assuming that the distribution is normal, and then compare the mean for each of these groups with the bootstrapped data with a hypothesis test at a significance level of 0.05.  The null hypothesis will be that there is no relationship between happiness scores and how much people reduced their interactions during the pandemic.  The p-value produced for each group will allow me to draw conclusions about whether that level of interaction during the pandemic had a relationship to a person's subjective happiness level.\n",
    "\n",
    "Hypothesis:  I expect the results to show that if a person reduced their interactions with other people more due to COVID, they will tend to have a lower happiness score.  This would suggest that having more social connection with others is correlated with higher happiness, and that this is important to one's well-being."
   ]
  },
  {
   "cell_type": "markdown",
   "id": "6c8dcaef",
   "metadata": {},
   "source": [
    "RESEARCH QUESTION 2:  Is there a relationship between the number of days per week a person spends with their friends and their physical health?\n",
    "\n",
    "Variables:  CONNECTION_social_days_friends_p7d_grouped and WELLNESS_self_rated_physical_health.  The first variable lists the number of days per week a person sees their friends, and is a categorical variable with 4 categories (None, Some - 1-3 days, Most - 4-6 days, and Every day).  For this reason, it should be displayed as a bar graph, allowing us to see the distribution of the data.  The second variable, the person's physical health (self-reported), is also categorical, with possible responses ranging from Poor to Excellent.  It should be displayed as a bar graph as well, for the same reason.\n",
    "\n",
    "Analysis:  As in my first analysis, I plan to separate the people into groups based on their response to the question about the number of days per week they spend with their friends.  Then, for each of these groups, I'll create a histogram showing their responses to the question about their physical health.  Since I will be dealing exclusively with categorical variables for this analysis, it isn't possible to do a hypothesis test or linear regression, but by comparing the bar graph for each group side by side to better compare the data, I should be able to get a good visualization of if the number of days a person has a correlation with their physical health.  I may also find the \"median\" physical health response in each of these groups, as well as the \"25th percentile\" and \"75th percentile,\" even though the data is categorical rather than quantitative.\n",
    "\n",
    "Hypothesis:  I expect there to be an obvious visual difference between the bar graphs of the physical health of people who spent a lot of time with friends vs those who did not, suggesting that there is a correlation between how much positive social interaction a person gets and how healthy they are.  If correct, this would imply that social connection is very important to a person's health and well-being."
   ]
  },
  {
   "cell_type": "markdown",
   "id": "dbf65b3e",
   "metadata": {},
   "source": [
    "RESEARCH QUESTION 3:  Is the level of social interaction and support a person has related to their mental health and well-being, as measured by their satisfaction with their life?\n",
    "\n",
    "Variables: PSYCH_zimet_multidimensional_social_support_scale_score and WELLNESS_life_satisfaction.  The first variable here is a measure of a person's social support system, based on their responses to several questions about their interactions with family and friends.  It is an example of quantitative continuous data, and appears to range from 1 to 7, and can therefore be displayed on a histogram, giving a good idea of its distribution.  This is the predictor/independent variable in this case.  The second variable, life satisfaction, is the outcome/dependent variable.  It is also a quantitative variable, but is discrete, and ranges from 1 to 10.  For this reason, it should be displayed on a bar graph to see its distribution.  This variable is self-reported by the survey respondent, rather than calculated by the researcher based on their responses.\n",
    "\n",
    "Analysis:  For this research question, I plan to do a simple linear regression to compare the variables and predict what life satisfaction score is expected based on a person's social support score.  To do this, I will use python to create the best-fit line, and calculate the r-squared, indicating the strength of the correlation between the variables.  If the r-squared is closer to 1, this will indicate a stronger correlation between these variables, implying that a stronger social support system/more positive social interactions is related to a higher satisfaction with one's life.\n",
    "\n",
    "Hypothesis:  I expect that there will be a strong correlation between these two variables.  This relates to the goal of the project because it would demonstrate that the more social connection a person has, the better health and well-being they will have, since higher satisfaction with life likely means better mental health for a person."
   ]
  }
 ],
 "metadata": {
  "kernelspec": {
   "display_name": "Python 3 (ipykernel)",
   "language": "python",
   "name": "python3"
  },
  "language_info": {
   "codemirror_mode": {
    "name": "ipython",
    "version": 3
   },
   "file_extension": ".py",
   "mimetype": "text/x-python",
   "name": "python",
   "nbconvert_exporter": "python",
   "pygments_lexer": "ipython3",
   "version": "3.11.6"
  }
 },
 "nbformat": 4,
 "nbformat_minor": 5
}
